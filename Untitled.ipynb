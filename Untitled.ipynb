{
 "cells": [
  {
   "cell_type": "markdown",
   "id": "a5aace48",
   "metadata": {},
   "source": [
    "# Statistical Function"
   ]
  },
  {
   "cell_type": "code",
   "execution_count": 2,
   "id": "f3d414df",
   "metadata": {},
   "outputs": [],
   "source": [
    "import numpy as np"
   ]
  },
  {
   "cell_type": "code",
   "execution_count": 3,
   "id": "959c8229",
   "metadata": {},
   "outputs": [],
   "source": [
    "a=np.array([[3,7,5],[8,4,3],[2,4,9]])"
   ]
  },
  {
   "cell_type": "code",
   "execution_count": 4,
   "id": "05dcfdc8",
   "metadata": {},
   "outputs": [
    {
     "name": "stdout",
     "output_type": "stream",
     "text": [
      "[[3 7 5]\n",
      " [8 4 3]\n",
      " [2 4 9]]\n"
     ]
    }
   ],
   "source": [
    "print(a)"
   ]
  },
  {
   "cell_type": "code",
   "execution_count": 8,
   "id": "3cdf637d",
   "metadata": {},
   "outputs": [
    {
     "name": "stdout",
     "output_type": "stream",
     "text": [
      "[3 3 2]\n"
     ]
    }
   ],
   "source": [
    "# Return minum along y-axis in the matrix\n",
    "print(np.amin(a,1))"
   ]
  },
  {
   "cell_type": "code",
   "execution_count": 9,
   "id": "31c8425e",
   "metadata": {},
   "outputs": [
    {
     "name": "stdout",
     "output_type": "stream",
     "text": [
      "[2 4 3]\n"
     ]
    }
   ],
   "source": [
    "# Return minum along x-axis in the matrix\n",
    "print(np.amin(a,0))"
   ]
  },
  {
   "cell_type": "code",
   "execution_count": 11,
   "id": "f7acc55d",
   "metadata": {},
   "outputs": [
    {
     "name": "stdout",
     "output_type": "stream",
     "text": [
      "[8 7 9]\n"
     ]
    }
   ],
   "source": [
    "# Return maximum value along the x-axis\n",
    "print(np.amax(a,axis=0))"
   ]
  },
  {
   "cell_type": "code",
   "execution_count": 12,
   "id": "583fb272",
   "metadata": {},
   "outputs": [
    {
     "name": "stdout",
     "output_type": "stream",
     "text": [
      "[7 8 9]\n"
     ]
    }
   ],
   "source": [
    "# Return maximum value along the \n",
    "print(np.amax(a,axis=1))"
   ]
  },
  {
   "cell_type": "markdown",
   "id": "6e669922",
   "metadata": {},
   "source": [
    "### numpy.ptp"
   ]
  },
  {
   "cell_type": "code",
   "execution_count": 13,
   "id": "31ba9328",
   "metadata": {},
   "outputs": [],
   "source": [
    "a=np.array([[3,7,5],[8,4,3],[2,4,9]])"
   ]
  },
  {
   "cell_type": "code",
   "execution_count": 14,
   "id": "795c1f24",
   "metadata": {},
   "outputs": [
    {
     "name": "stdout",
     "output_type": "stream",
     "text": [
      "[[3 7 5]\n",
      " [8 4 3]\n",
      " [2 4 9]]\n"
     ]
    }
   ],
   "source": [
    "print(a)"
   ]
  },
  {
   "cell_type": "markdown",
   "id": "05e34c12",
   "metadata": {},
   "source": [
    " ###### In the statistical function numpy. ptp() , \"ptp\" stands for peak to peak. This function is used to return a range of values along an axis. The range can be calculated using range= maximum_value - minimum_value."
   ]
  },
  {
   "cell_type": "code",
   "execution_count": 16,
   "id": "e1b65d63",
   "metadata": {},
   "outputs": [
    {
     "name": "stdout",
     "output_type": "stream",
     "text": [
      "[6 3 6]\n"
     ]
    }
   ],
   "source": [
    "print(np.ptp(a,axis=0))"
   ]
  },
  {
   "cell_type": "code",
   "execution_count": 17,
   "id": "58d9ae2a",
   "metadata": {},
   "outputs": [
    {
     "name": "stdout",
     "output_type": "stream",
     "text": [
      "[4 5 7]\n"
     ]
    }
   ],
   "source": [
    "print(np.ptp(a,axis=1))"
   ]
  },
  {
   "cell_type": "markdown",
   "id": "766b489b",
   "metadata": {},
   "source": [
    "##### numpy.percentile()"
   ]
  },
  {
   "cell_type": "code",
   "execution_count": 18,
   "id": "18770acc",
   "metadata": {},
   "outputs": [],
   "source": [
    "a=np.array([[30,40,70],[80,20,10],[50,90,60]])"
   ]
  },
  {
   "cell_type": "code",
   "execution_count": 19,
   "id": "6cdb83e5",
   "metadata": {},
   "outputs": [
    {
     "name": "stdout",
     "output_type": "stream",
     "text": [
      "[[30 40 70]\n",
      " [80 20 10]\n",
      " [50 90 60]]\n"
     ]
    }
   ],
   "source": [
    "print(a)"
   ]
  },
  {
   "cell_type": "code",
   "execution_count": 20,
   "id": "0ee1016e",
   "metadata": {},
   "outputs": [
    {
     "name": "stdout",
     "output_type": "stream",
     "text": [
      "50.0\n"
     ]
    }
   ],
   "source": [
    "print(np.percentile(a,50))"
   ]
  },
  {
   "cell_type": "code",
   "execution_count": 21,
   "id": "db048931",
   "metadata": {},
   "outputs": [
    {
     "name": "stdout",
     "output_type": "stream",
     "text": [
      "[50. 40. 60.]\n"
     ]
    }
   ],
   "source": [
    "print(np.percentile(a,50,axis=0))"
   ]
  },
  {
   "cell_type": "code",
   "execution_count": null,
   "id": "46e08ce5",
   "metadata": {},
   "outputs": [],
   "source": []
  }
 ],
 "metadata": {
  "kernelspec": {
   "display_name": "Python 3 (ipykernel)",
   "language": "python",
   "name": "python3"
  },
  "language_info": {
   "codemirror_mode": {
    "name": "ipython",
    "version": 3
   },
   "file_extension": ".py",
   "mimetype": "text/x-python",
   "name": "python",
   "nbconvert_exporter": "python",
   "pygments_lexer": "ipython3",
   "version": "3.10.5"
  }
 },
 "nbformat": 4,
 "nbformat_minor": 5
}
