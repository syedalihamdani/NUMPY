{
 "cells": [
  {
   "cell_type": "markdown",
   "id": "830619c2",
   "metadata": {},
   "source": [
    "# Sort, Search & Counting Functions"
   ]
  },
  {
   "cell_type": "code",
   "execution_count": 3,
   "id": "5b9cbe52",
   "metadata": {},
   "outputs": [],
   "source": [
    "import numpy as np"
   ]
  },
  {
   "cell_type": "code",
   "execution_count": 4,
   "id": "24dbd35d",
   "metadata": {},
   "outputs": [],
   "source": [
    "a= np.array([[3,7],[9,1]])"
   ]
  },
  {
   "cell_type": "code",
   "execution_count": 5,
   "id": "ca3d20d4",
   "metadata": {},
   "outputs": [
    {
     "name": "stdout",
     "output_type": "stream",
     "text": [
      "[[3 7]\n",
      " [9 1]]\n"
     ]
    }
   ],
   "source": [
    "print(a)"
   ]
  },
  {
   "cell_type": "code",
   "execution_count": 6,
   "id": "761baa68",
   "metadata": {},
   "outputs": [
    {
     "name": "stdout",
     "output_type": "stream",
     "text": [
      "[[3 7]\n",
      " [1 9]]\n"
     ]
    }
   ],
   "source": [
    "print(np.sort(a))"
   ]
  },
  {
   "cell_type": "code",
   "execution_count": 7,
   "id": "2ee31a17",
   "metadata": {},
   "outputs": [
    {
     "name": "stdout",
     "output_type": "stream",
     "text": [
      "[[3 1]\n",
      " [9 7]]\n"
     ]
    }
   ],
   "source": [
    "print(np.sort(a,axis=0))"
   ]
  },
  {
   "cell_type": "code",
   "execution_count": 8,
   "id": "a0c2672b",
   "metadata": {},
   "outputs": [
    {
     "name": "stdout",
     "output_type": "stream",
     "text": [
      "[[3 7]\n",
      " [1 9]]\n"
     ]
    }
   ],
   "source": [
    "print(np.sort(a,axis=1))"
   ]
  },
  {
   "cell_type": "code",
   "execution_count": 9,
   "id": "15d3eacd",
   "metadata": {},
   "outputs": [],
   "source": [
    "dt=(np.dtype([('name','S10'),('age',int)]))"
   ]
  },
  {
   "cell_type": "code",
   "execution_count": 10,
   "id": "1ac435e1",
   "metadata": {},
   "outputs": [],
   "source": [
    "a=(np.array([(\"raju\",21),(\"anil\",25),(\"ravi\",17),(\"amar\",27)],dtype=dt))"
   ]
  },
  {
   "cell_type": "code",
   "execution_count": 11,
   "id": "88dd2f0e",
   "metadata": {},
   "outputs": [
    {
     "name": "stdout",
     "output_type": "stream",
     "text": [
      "[(b'raju', 21) (b'anil', 25) (b'ravi', 17) (b'amar', 27)]\n"
     ]
    }
   ],
   "source": [
    "print(a)"
   ]
  },
  {
   "cell_type": "code",
   "execution_count": 12,
   "id": "b68bf88e",
   "metadata": {},
   "outputs": [
    {
     "name": "stdout",
     "output_type": "stream",
     "text": [
      "[(b'amar', 27) (b'anil', 25) (b'raju', 21) (b'ravi', 17)]\n"
     ]
    }
   ],
   "source": [
    "print(np.sort(a,order='name'))"
   ]
  },
  {
   "cell_type": "markdown",
   "id": "f53705da",
   "metadata": {},
   "source": [
    "### numpy.argsort"
   ]
  },
  {
   "cell_type": "code",
   "execution_count": 13,
   "id": "76b83a89",
   "metadata": {},
   "outputs": [],
   "source": [
    "x=np.array([3,1,2])"
   ]
  },
  {
   "cell_type": "code",
   "execution_count": 14,
   "id": "7a2bbf9c",
   "metadata": {},
   "outputs": [
    {
     "name": "stdout",
     "output_type": "stream",
     "text": [
      "[3 1 2]\n"
     ]
    }
   ],
   "source": [
    "print(x)"
   ]
  },
  {
   "cell_type": "code",
   "execution_count": 15,
   "id": "fba4aa54",
   "metadata": {},
   "outputs": [],
   "source": [
    "y=np.argsort(x)"
   ]
  },
  {
   "cell_type": "code",
   "execution_count": 16,
   "id": "89a355de",
   "metadata": {},
   "outputs": [
    {
     "name": "stdout",
     "output_type": "stream",
     "text": [
      "[1 2 0]\n"
     ]
    }
   ],
   "source": [
    "print(y)"
   ]
  },
  {
   "cell_type": "code",
   "execution_count": 18,
   "id": "2731bcae",
   "metadata": {},
   "outputs": [
    {
     "name": "stdout",
     "output_type": "stream",
     "text": [
      "Reconstruct original array in sorted order:\n"
     ]
    }
   ],
   "source": [
    "print(\"Reconstruct original array in sorted order:\")"
   ]
  },
  {
   "cell_type": "code",
   "execution_count": 19,
   "id": "7d211a19",
   "metadata": {},
   "outputs": [
    {
     "name": "stdout",
     "output_type": "stream",
     "text": [
      "[1 2 3]\n"
     ]
    }
   ],
   "source": [
    "print(x[y])"
   ]
  },
  {
   "cell_type": "code",
   "execution_count": 20,
   "id": "4cc0439a",
   "metadata": {},
   "outputs": [
    {
     "name": "stdout",
     "output_type": "stream",
     "text": [
      "Reconstructed original array in sorted order\n"
     ]
    }
   ],
   "source": [
    "print(\"Reconstructed original array in sorted order\")"
   ]
  },
  {
   "cell_type": "code",
   "execution_count": 21,
   "id": "a3d75ba8",
   "metadata": {},
   "outputs": [
    {
     "name": "stdout",
     "output_type": "stream",
     "text": [
      "1\n",
      "2\n",
      "3\n"
     ]
    }
   ],
   "source": [
    "for i in y:\n",
    "    print(x[i])"
   ]
  },
  {
   "cell_type": "markdown",
   "id": "6a2cbc97",
   "metadata": {},
   "source": [
    "### numpy.lexsort()"
   ]
  },
  {
   "cell_type": "code",
   "execution_count": 22,
   "id": "e0cc8bbe",
   "metadata": {},
   "outputs": [],
   "source": [
    "nm=('raju','anil','ravi','amar')"
   ]
  },
  {
   "cell_type": "code",
   "execution_count": 23,
   "id": "3ee37997",
   "metadata": {},
   "outputs": [],
   "source": [
    "dv=('f.y.','s.y.','s.y.','f.y.')"
   ]
  },
  {
   "cell_type": "code",
   "execution_count": 24,
   "id": "a26b5171",
   "metadata": {},
   "outputs": [],
   "source": [
    "ind=np.lexsort((dv,nm))"
   ]
  },
  {
   "cell_type": "code",
   "execution_count": 25,
   "id": "6a6a6a59",
   "metadata": {},
   "outputs": [
    {
     "name": "stdout",
     "output_type": "stream",
     "text": [
      "[3 1 0 2]\n"
     ]
    }
   ],
   "source": [
    "print(ind)"
   ]
  },
  {
   "cell_type": "code",
   "execution_count": 26,
   "id": "9e159123",
   "metadata": {},
   "outputs": [
    {
     "name": "stdout",
     "output_type": "stream",
     "text": [
      "use this index to get sorted data:\n"
     ]
    }
   ],
   "source": [
    "print(\"use this index to get sorted data:\")"
   ]
  },
  {
   "cell_type": "code",
   "execution_count": 29,
   "id": "81b534b1",
   "metadata": {},
   "outputs": [
    {
     "name": "stdout",
     "output_type": "stream",
     "text": [
      "['amar, f.y.', 'anil, s.y.', 'raju, f.y.', 'ravi, s.y.']\n"
     ]
    }
   ],
   "source": [
    "print([nm[i] + \", \" + dv[i] for i in ind])"
   ]
  },
  {
   "cell_type": "markdown",
   "id": "6be86b00",
   "metadata": {},
   "source": [
    "### numpy.argmax() numpy.argmin()"
   ]
  },
  {
   "cell_type": "code",
   "execution_count": 32,
   "id": "f68e8e2f",
   "metadata": {},
   "outputs": [],
   "source": [
    "a=np.array([[30,40,70],[80,20,10],[50,90,60]])"
   ]
  },
  {
   "cell_type": "code",
   "execution_count": 33,
   "id": "9b6ead70",
   "metadata": {},
   "outputs": [
    {
     "name": "stdout",
     "output_type": "stream",
     "text": [
      "[[30 40 70]\n",
      " [80 20 10]\n",
      " [50 90 60]]\n"
     ]
    }
   ],
   "source": [
    "print(a)"
   ]
  },
  {
   "cell_type": "code",
   "execution_count": 34,
   "id": "1467a02e",
   "metadata": {},
   "outputs": [
    {
     "name": "stdout",
     "output_type": "stream",
     "text": [
      "7\n"
     ]
    }
   ],
   "source": [
    "print(np.argmax(a))"
   ]
  },
  {
   "cell_type": "code",
   "execution_count": 35,
   "id": "6c2a8903",
   "metadata": {},
   "outputs": [
    {
     "name": "stdout",
     "output_type": "stream",
     "text": [
      "[30 40 70 80 20 10 50 90 60]\n"
     ]
    }
   ],
   "source": [
    "print(a.flatten())"
   ]
  },
  {
   "cell_type": "code",
   "execution_count": 37,
   "id": "5126b75e",
   "metadata": {},
   "outputs": [],
   "source": [
    "maxindex=np.argmax(a,axis=0)"
   ]
  },
  {
   "cell_type": "code",
   "execution_count": 38,
   "id": "f92a3cee",
   "metadata": {},
   "outputs": [
    {
     "name": "stdout",
     "output_type": "stream",
     "text": [
      "[1 2 0]\n"
     ]
    }
   ],
   "source": [
    "print(maxindex)"
   ]
  },
  {
   "cell_type": "code",
   "execution_count": 39,
   "id": "a2cfb7d9",
   "metadata": {},
   "outputs": [],
   "source": [
    "maxindex=np.argmax(a,axis=1)"
   ]
  },
  {
   "cell_type": "code",
   "execution_count": 40,
   "id": "bc5d2719",
   "metadata": {},
   "outputs": [
    {
     "name": "stdout",
     "output_type": "stream",
     "text": [
      "[2 0 1]\n"
     ]
    }
   ],
   "source": [
    "print(maxindex)"
   ]
  },
  {
   "cell_type": "code",
   "execution_count": 41,
   "id": "19d8955b",
   "metadata": {},
   "outputs": [],
   "source": [
    "minindex=np.argmin(a)"
   ]
  },
  {
   "cell_type": "code",
   "execution_count": 42,
   "id": "d11e6c54",
   "metadata": {},
   "outputs": [
    {
     "name": "stdout",
     "output_type": "stream",
     "text": [
      "5\n"
     ]
    }
   ],
   "source": [
    "print(minindex)"
   ]
  },
  {
   "cell_type": "code",
   "execution_count": 43,
   "id": "1de82fc1",
   "metadata": {},
   "outputs": [
    {
     "name": "stdout",
     "output_type": "stream",
     "text": [
      "10\n"
     ]
    }
   ],
   "source": [
    "print(a.flatten()[minindex])"
   ]
  },
  {
   "cell_type": "code",
   "execution_count": 44,
   "id": "b725a9f8",
   "metadata": {},
   "outputs": [],
   "source": [
    "minindex=np.argmin(a,axis=0)"
   ]
  },
  {
   "cell_type": "code",
   "execution_count": 45,
   "id": "863c3e8c",
   "metadata": {},
   "outputs": [
    {
     "name": "stdout",
     "output_type": "stream",
     "text": [
      "[0 1 1]\n"
     ]
    }
   ],
   "source": [
    "print(minindex)"
   ]
  },
  {
   "cell_type": "code",
   "execution_count": 46,
   "id": "5e3c4a83",
   "metadata": {},
   "outputs": [],
   "source": [
    "minindex=np.argmin(a,axis=1)"
   ]
  },
  {
   "cell_type": "code",
   "execution_count": 47,
   "id": "5f27565f",
   "metadata": {},
   "outputs": [
    {
     "name": "stdout",
     "output_type": "stream",
     "text": [
      "[0 2 0]\n"
     ]
    }
   ],
   "source": [
    "print(minindex)"
   ]
  },
  {
   "cell_type": "markdown",
   "id": "ec45a7cb",
   "metadata": {},
   "source": [
    "### numpy.nonzero()"
   ]
  },
  {
   "cell_type": "code",
   "execution_count": 48,
   "id": "cef83864",
   "metadata": {},
   "outputs": [],
   "source": [
    "a=np.array([[30,40,0],[0,20,10],[50,0,60]])"
   ]
  },
  {
   "cell_type": "code",
   "execution_count": 49,
   "id": "bfb438f0",
   "metadata": {},
   "outputs": [
    {
     "name": "stdout",
     "output_type": "stream",
     "text": [
      "[[30 40  0]\n",
      " [ 0 20 10]\n",
      " [50  0 60]]\n"
     ]
    }
   ],
   "source": [
    "print(a)"
   ]
  },
  {
   "cell_type": "code",
   "execution_count": 50,
   "id": "03e2e2e0",
   "metadata": {},
   "outputs": [
    {
     "name": "stdout",
     "output_type": "stream",
     "text": [
      "(array([0, 0, 1, 1, 2, 2], dtype=int64), array([0, 1, 1, 2, 0, 2], dtype=int64))\n"
     ]
    }
   ],
   "source": [
    "print(np.nonzero(a))"
   ]
  },
  {
   "cell_type": "markdown",
   "id": "ed1586ad",
   "metadata": {},
   "source": [
    "### numpy.where()"
   ]
  },
  {
   "cell_type": "code",
   "execution_count": 51,
   "id": "da8d3bc3",
   "metadata": {},
   "outputs": [],
   "source": [
    "x = np.arange(9.).reshape(3,3)"
   ]
  },
  {
   "cell_type": "code",
   "execution_count": 52,
   "id": "a552e147",
   "metadata": {},
   "outputs": [
    {
     "name": "stdout",
     "output_type": "stream",
     "text": [
      "[[0. 1. 2.]\n",
      " [3. 4. 5.]\n",
      " [6. 7. 8.]]\n"
     ]
    }
   ],
   "source": [
    "print(x)"
   ]
  },
  {
   "cell_type": "code",
   "execution_count": 53,
   "id": "466f57dd",
   "metadata": {},
   "outputs": [],
   "source": [
    "y=np.where(x>3)"
   ]
  },
  {
   "cell_type": "code",
   "execution_count": 54,
   "id": "8f7f0338",
   "metadata": {},
   "outputs": [
    {
     "name": "stdout",
     "output_type": "stream",
     "text": [
      "(array([1, 1, 2, 2, 2], dtype=int64), array([1, 2, 0, 1, 2], dtype=int64))\n"
     ]
    }
   ],
   "source": [
    "print(y)"
   ]
  },
  {
   "cell_type": "code",
   "execution_count": 55,
   "id": "24b6cdea",
   "metadata": {},
   "outputs": [
    {
     "name": "stdout",
     "output_type": "stream",
     "text": [
      "Use these indices to get elements satisfying the condition\n"
     ]
    }
   ],
   "source": [
    "print('Use these indices to get elements satisfying the condition')"
   ]
  },
  {
   "cell_type": "code",
   "execution_count": 56,
   "id": "b0707b25",
   "metadata": {},
   "outputs": [
    {
     "name": "stdout",
     "output_type": "stream",
     "text": [
      "[4. 5. 6. 7. 8.]\n"
     ]
    }
   ],
   "source": [
    "print(x[y])"
   ]
  },
  {
   "cell_type": "markdown",
   "id": "f60695c6",
   "metadata": {},
   "source": [
    "### numpy.extract"
   ]
  },
  {
   "cell_type": "code",
   "execution_count": 58,
   "id": "5732ed1c",
   "metadata": {},
   "outputs": [],
   "source": [
    "x=np.arange(9.).reshape(3,3)"
   ]
  },
  {
   "cell_type": "code",
   "execution_count": 59,
   "id": "75b852c2",
   "metadata": {},
   "outputs": [
    {
     "name": "stdout",
     "output_type": "stream",
     "text": [
      "[[0. 1. 2.]\n",
      " [3. 4. 5.]\n",
      " [6. 7. 8.]]\n"
     ]
    }
   ],
   "source": [
    "print(x)"
   ]
  },
  {
   "cell_type": "code",
   "execution_count": 60,
   "id": "4a95109c",
   "metadata": {},
   "outputs": [],
   "source": [
    "condition =np.mod(x,2) == 0"
   ]
  },
  {
   "cell_type": "code",
   "execution_count": 61,
   "id": "e5448d33",
   "metadata": {},
   "outputs": [
    {
     "name": "stdout",
     "output_type": "stream",
     "text": [
      "Element-wise value of condition\n"
     ]
    }
   ],
   "source": [
    "print('Element-wise value of condition')"
   ]
  },
  {
   "cell_type": "code",
   "execution_count": 62,
   "id": "3949262b",
   "metadata": {},
   "outputs": [
    {
     "name": "stdout",
     "output_type": "stream",
     "text": [
      "[[ True False  True]\n",
      " [False  True False]\n",
      " [ True False  True]]\n"
     ]
    }
   ],
   "source": [
    "print(condition)"
   ]
  },
  {
   "cell_type": "code",
   "execution_count": 63,
   "id": "9654cd35",
   "metadata": {},
   "outputs": [
    {
     "name": "stdout",
     "output_type": "stream",
     "text": [
      "Extract elements using condition\n"
     ]
    }
   ],
   "source": [
    "print('Extract elements using condition')"
   ]
  },
  {
   "cell_type": "code",
   "execution_count": 64,
   "id": "f8202ab7",
   "metadata": {},
   "outputs": [
    {
     "name": "stdout",
     "output_type": "stream",
     "text": [
      "[0. 2. 4. 6. 8.]\n"
     ]
    }
   ],
   "source": [
    "print(np.extract(condition,x))"
   ]
  },
  {
   "cell_type": "code",
   "execution_count": null,
   "id": "977e782a",
   "metadata": {},
   "outputs": [],
   "source": []
  }
 ],
 "metadata": {
  "kernelspec": {
   "display_name": "Python 3 (ipykernel)",
   "language": "python",
   "name": "python3"
  },
  "language_info": {
   "codemirror_mode": {
    "name": "ipython",
    "version": 3
   },
   "file_extension": ".py",
   "mimetype": "text/x-python",
   "name": "python",
   "nbconvert_exporter": "python",
   "pygments_lexer": "ipython3",
   "version": "3.10.5"
  }
 },
 "nbformat": 4,
 "nbformat_minor": 5
}
