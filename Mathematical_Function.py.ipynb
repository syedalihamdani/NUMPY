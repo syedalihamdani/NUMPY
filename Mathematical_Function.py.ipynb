{
 "cells": [
  {
   "cell_type": "markdown",
   "id": "a0e8fef3",
   "metadata": {},
   "source": [
    "### Mathematical Functions"
   ]
  },
  {
   "cell_type": "code",
   "execution_count": 1,
   "id": "c9170dde",
   "metadata": {},
   "outputs": [],
   "source": [
    "import numpy as np"
   ]
  },
  {
   "cell_type": "code",
   "execution_count": 2,
   "id": "2c0cf934",
   "metadata": {},
   "outputs": [],
   "source": [
    "a=np.array([0,30,45,60,90])"
   ]
  },
  {
   "cell_type": "code",
   "execution_count": 3,
   "id": "8702b4d3",
   "metadata": {},
   "outputs": [
    {
     "name": "stdout",
     "output_type": "stream",
     "text": [
      "Sine of different angles\n"
     ]
    }
   ],
   "source": [
    "print('Sine of different angles')"
   ]
  },
  {
   "cell_type": "markdown",
   "id": "8f222df3",
   "metadata": {},
   "source": [
    "## Convert to radians by multiplying with pi/180"
   ]
  },
  {
   "cell_type": "code",
   "execution_count": 5,
   "id": "fd1a53be",
   "metadata": {},
   "outputs": [
    {
     "name": "stdout",
     "output_type": "stream",
     "text": [
      "[0.         0.5        0.70710678 0.8660254  1.        ]\n"
     ]
    }
   ],
   "source": [
    "print(np.sin(a*np.pi/180))"
   ]
  },
  {
   "cell_type": "code",
   "execution_count": 6,
   "id": "d478406f",
   "metadata": {},
   "outputs": [
    {
     "name": "stdout",
     "output_type": "stream",
     "text": [
      "Conine values for angles in array:\n"
     ]
    }
   ],
   "source": [
    "print('Conine values for angles in array:')"
   ]
  },
  {
   "cell_type": "code",
   "execution_count": 8,
   "id": "248de5fe",
   "metadata": {},
   "outputs": [
    {
     "name": "stdout",
     "output_type": "stream",
     "text": [
      "[1.00000000e+00 8.66025404e-01 7.07106781e-01 5.00000000e-01\n",
      " 6.12323400e-17]\n"
     ]
    }
   ],
   "source": [
    "print(np.cos(a*np.pi/180))"
   ]
  },
  {
   "cell_type": "code",
   "execution_count": 9,
   "id": "4d749283",
   "metadata": {},
   "outputs": [
    {
     "name": "stdout",
     "output_type": "stream",
     "text": [
      "Tangent values for given angles:\n"
     ]
    }
   ],
   "source": [
    "print('Tangent values for given angles:')"
   ]
  },
  {
   "cell_type": "code",
   "execution_count": 10,
   "id": "2135f4d4",
   "metadata": {},
   "outputs": [
    {
     "name": "stdout",
     "output_type": "stream",
     "text": [
      "[0.00000000e+00 5.77350269e-01 1.00000000e+00 1.73205081e+00\n",
      " 1.63312394e+16]\n"
     ]
    }
   ],
   "source": [
    "print(np.tan(a*np.pi/180))"
   ]
  },
  {
   "cell_type": "code",
   "execution_count": 11,
   "id": "13a9b427",
   "metadata": {},
   "outputs": [],
   "source": [
    "a=np.array([0,30,45,60,90])"
   ]
  },
  {
   "cell_type": "code",
   "execution_count": 12,
   "id": "04dbf631",
   "metadata": {},
   "outputs": [
    {
     "name": "stdout",
     "output_type": "stream",
     "text": [
      "Array containing sine values:\n"
     ]
    }
   ],
   "source": [
    "print('Array containing sine values:')"
   ]
  },
  {
   "cell_type": "code",
   "execution_count": 13,
   "id": "0e2ae183",
   "metadata": {},
   "outputs": [],
   "source": [
    "sin =np.sin(a*np.pi/180)"
   ]
  },
  {
   "cell_type": "code",
   "execution_count": 14,
   "id": "367071de",
   "metadata": {},
   "outputs": [
    {
     "name": "stdout",
     "output_type": "stream",
     "text": [
      "[0.         0.5        0.70710678 0.8660254  1.        ]\n"
     ]
    }
   ],
   "source": [
    "print(sin)"
   ]
  },
  {
   "cell_type": "code",
   "execution_count": 15,
   "id": "1b462a06",
   "metadata": {},
   "outputs": [
    {
     "name": "stdout",
     "output_type": "stream",
     "text": [
      "\n",
      "\n"
     ]
    }
   ],
   "source": [
    "print('\\n')"
   ]
  },
  {
   "cell_type": "code",
   "execution_count": 16,
   "id": "6c5ebaa5",
   "metadata": {},
   "outputs": [
    {
     "name": "stdout",
     "output_type": "stream",
     "text": [
      "Compute sine inverse of angles. Returned values are in radians.\n"
     ]
    }
   ],
   "source": [
    "print('Compute sine inverse of angles. Returned values are in radians.')"
   ]
  },
  {
   "cell_type": "code",
   "execution_count": 17,
   "id": "eecd0a38",
   "metadata": {},
   "outputs": [],
   "source": [
    "inv=np.arcsin(sin)"
   ]
  },
  {
   "cell_type": "code",
   "execution_count": 18,
   "id": "fb61cb0c",
   "metadata": {},
   "outputs": [
    {
     "name": "stdout",
     "output_type": "stream",
     "text": [
      "[0.         0.52359878 0.78539816 1.04719755 1.57079633]\n"
     ]
    }
   ],
   "source": [
    "print(inv)"
   ]
  },
  {
   "cell_type": "code",
   "execution_count": 19,
   "id": "4a1af18d",
   "metadata": {},
   "outputs": [
    {
     "name": "stdout",
     "output_type": "stream",
     "text": [
      "\n",
      "\n"
     ]
    }
   ],
   "source": [
    "print('\\n')"
   ]
  },
  {
   "cell_type": "code",
   "execution_count": 20,
   "id": "87ee9770",
   "metadata": {},
   "outputs": [
    {
     "name": "stdout",
     "output_type": "stream",
     "text": [
      "Check result by converting to degrees:\n"
     ]
    }
   ],
   "source": [
    "print('Check result by converting to degrees:')"
   ]
  },
  {
   "cell_type": "code",
   "execution_count": 21,
   "id": "6fba67fa",
   "metadata": {},
   "outputs": [
    {
     "name": "stdout",
     "output_type": "stream",
     "text": [
      "[ 0. 30. 45. 60. 90.]\n"
     ]
    }
   ],
   "source": [
    "print(np.degrees(inv))"
   ]
  },
  {
   "cell_type": "code",
   "execution_count": 22,
   "id": "04ae1d6e",
   "metadata": {},
   "outputs": [
    {
     "name": "stdout",
     "output_type": "stream",
     "text": [
      "\n",
      "\n"
     ]
    }
   ],
   "source": [
    "print('\\n')"
   ]
  },
  {
   "cell_type": "code",
   "execution_count": 25,
   "id": "4539e9f9",
   "metadata": {},
   "outputs": [
    {
     "name": "stdout",
     "output_type": "stream",
     "text": [
      "arccos and arctan functions behave similarly:\n"
     ]
    }
   ],
   "source": [
    "print('arccos and arctan functions behave similarly:')"
   ]
  },
  {
   "cell_type": "code",
   "execution_count": 26,
   "id": "0bf540c4",
   "metadata": {},
   "outputs": [],
   "source": [
    "cos =np.cos(a*np.pi/180)"
   ]
  },
  {
   "cell_type": "code",
   "execution_count": 27,
   "id": "bbcd5ffc",
   "metadata": {},
   "outputs": [
    {
     "name": "stdout",
     "output_type": "stream",
     "text": [
      "[1.00000000e+00 8.66025404e-01 7.07106781e-01 5.00000000e-01\n",
      " 6.12323400e-17]\n"
     ]
    }
   ],
   "source": [
    "print(cos)"
   ]
  },
  {
   "cell_type": "code",
   "execution_count": 28,
   "id": "f3a28fd9",
   "metadata": {},
   "outputs": [
    {
     "name": "stdout",
     "output_type": "stream",
     "text": [
      "\n",
      "\n"
     ]
    }
   ],
   "source": [
    "print('\\n')"
   ]
  },
  {
   "cell_type": "code",
   "execution_count": 29,
   "id": "d835d996",
   "metadata": {},
   "outputs": [
    {
     "name": "stdout",
     "output_type": "stream",
     "text": [
      "Inverse of cos:\n"
     ]
    }
   ],
   "source": [
    "print('Inverse of cos:')"
   ]
  },
  {
   "cell_type": "code",
   "execution_count": 30,
   "id": "703b01dd",
   "metadata": {},
   "outputs": [],
   "source": [
    "inv = np.arccos(cos)"
   ]
  },
  {
   "cell_type": "code",
   "execution_count": 31,
   "id": "836a4b68",
   "metadata": {},
   "outputs": [
    {
     "name": "stdout",
     "output_type": "stream",
     "text": [
      "[0.         0.52359878 0.78539816 1.04719755 1.57079633]\n"
     ]
    }
   ],
   "source": [
    "print(inv)"
   ]
  },
  {
   "cell_type": "code",
   "execution_count": 32,
   "id": "d748264c",
   "metadata": {},
   "outputs": [
    {
     "name": "stdout",
     "output_type": "stream",
     "text": [
      "\n",
      "\n"
     ]
    }
   ],
   "source": [
    "print('\\n')"
   ]
  },
  {
   "cell_type": "code",
   "execution_count": 33,
   "id": "60cdbc3c",
   "metadata": {},
   "outputs": [
    {
     "name": "stdout",
     "output_type": "stream",
     "text": [
      "In degrees\n"
     ]
    }
   ],
   "source": [
    "print('In degrees')"
   ]
  },
  {
   "cell_type": "code",
   "execution_count": 34,
   "id": "5a860da3",
   "metadata": {},
   "outputs": [
    {
     "name": "stdout",
     "output_type": "stream",
     "text": [
      "[ 0. 30. 45. 60. 90.]\n"
     ]
    }
   ],
   "source": [
    "print(np.degrees(inv))"
   ]
  },
  {
   "cell_type": "code",
   "execution_count": 36,
   "id": "0bc20ced",
   "metadata": {},
   "outputs": [
    {
     "name": "stdout",
     "output_type": "stream",
     "text": [
      "\n",
      "\n"
     ]
    }
   ],
   "source": [
    "print('\\n')"
   ]
  },
  {
   "cell_type": "code",
   "execution_count": 37,
   "id": "c1a5fb10",
   "metadata": {},
   "outputs": [
    {
     "name": "stdout",
     "output_type": "stream",
     "text": [
      "Tan function:\n"
     ]
    }
   ],
   "source": [
    "print('Tan function:')"
   ]
  },
  {
   "cell_type": "code",
   "execution_count": 38,
   "id": "4792342c",
   "metadata": {},
   "outputs": [],
   "source": [
    "tan =np.tan(a*np.pi/180)"
   ]
  },
  {
   "cell_type": "code",
   "execution_count": 39,
   "id": "b912026e",
   "metadata": {},
   "outputs": [
    {
     "name": "stdout",
     "output_type": "stream",
     "text": [
      "[0.00000000e+00 5.77350269e-01 1.00000000e+00 1.73205081e+00\n",
      " 1.63312394e+16]\n"
     ]
    }
   ],
   "source": [
    "print(tan)"
   ]
  },
  {
   "cell_type": "code",
   "execution_count": 40,
   "id": "e414abde",
   "metadata": {},
   "outputs": [
    {
     "name": "stdout",
     "output_type": "stream",
     "text": [
      "\n",
      "\n"
     ]
    }
   ],
   "source": [
    "print('\\n')"
   ]
  },
  {
   "cell_type": "code",
   "execution_count": 41,
   "id": "672d9c27",
   "metadata": {},
   "outputs": [
    {
     "name": "stdout",
     "output_type": "stream",
     "text": [
      "Inverse of tan:\n"
     ]
    }
   ],
   "source": [
    "print('Inverse of tan:')"
   ]
  },
  {
   "cell_type": "code",
   "execution_count": 42,
   "id": "6bfccfb0",
   "metadata": {},
   "outputs": [],
   "source": [
    "inv = np.arctan(tan)"
   ]
  },
  {
   "cell_type": "code",
   "execution_count": 43,
   "id": "209e4863",
   "metadata": {},
   "outputs": [
    {
     "name": "stdout",
     "output_type": "stream",
     "text": [
      "[0.         0.52359878 0.78539816 1.04719755 1.57079633]\n"
     ]
    }
   ],
   "source": [
    "print(inv)"
   ]
  },
  {
   "cell_type": "code",
   "execution_count": 44,
   "id": "aa9bce34",
   "metadata": {},
   "outputs": [
    {
     "name": "stdout",
     "output_type": "stream",
     "text": [
      "\n",
      "\n"
     ]
    }
   ],
   "source": [
    "print('\\n')"
   ]
  },
  {
   "cell_type": "code",
   "execution_count": 45,
   "id": "c8334479",
   "metadata": {},
   "outputs": [
    {
     "name": "stdout",
     "output_type": "stream",
     "text": [
      "In degrees:\n"
     ]
    }
   ],
   "source": [
    "print('In degrees:')"
   ]
  },
  {
   "cell_type": "code",
   "execution_count": 46,
   "id": "430cad40",
   "metadata": {},
   "outputs": [
    {
     "name": "stdout",
     "output_type": "stream",
     "text": [
      "[ 0. 30. 45. 60. 90.]\n"
     ]
    }
   ],
   "source": [
    "# Array containing sine values:¶\n",
    "\n",
    "print(np.degrees(inv))"
   ]
  },
  {
   "cell_type": "markdown",
   "id": "d3e6eb2a",
   "metadata": {},
   "source": [
    "### Functions for Rounding"
   ]
  },
  {
   "cell_type": "code",
   "execution_count": 47,
   "id": "78c324c0",
   "metadata": {},
   "outputs": [],
   "source": [
    "a= np.array([1.0,5.55, 123, 0.567,25.532])"
   ]
  },
  {
   "cell_type": "code",
   "execution_count": 48,
   "id": "8c999c11",
   "metadata": {},
   "outputs": [
    {
     "name": "stdout",
     "output_type": "stream",
     "text": [
      "Original array:\n"
     ]
    }
   ],
   "source": [
    "print('Original array:')"
   ]
  },
  {
   "cell_type": "code",
   "execution_count": 49,
   "id": "b10ded87",
   "metadata": {},
   "outputs": [
    {
     "name": "stdout",
     "output_type": "stream",
     "text": [
      "[  1.      5.55  123.      0.567  25.532]\n"
     ]
    }
   ],
   "source": [
    "print(a)"
   ]
  },
  {
   "cell_type": "code",
   "execution_count": 50,
   "id": "8235c6e8",
   "metadata": {},
   "outputs": [
    {
     "name": "stdout",
     "output_type": "stream",
     "text": [
      "\n",
      "\n"
     ]
    }
   ],
   "source": [
    "print('\\n')"
   ]
  },
  {
   "cell_type": "code",
   "execution_count": 51,
   "id": "83b2e211",
   "metadata": {},
   "outputs": [
    {
     "name": "stdout",
     "output_type": "stream",
     "text": [
      "After rounding:\n"
     ]
    }
   ],
   "source": [
    "print('After rounding:')"
   ]
  },
  {
   "cell_type": "code",
   "execution_count": 52,
   "id": "2ad01764",
   "metadata": {},
   "outputs": [
    {
     "name": "stdout",
     "output_type": "stream",
     "text": [
      "[  1.   6. 123.   1.  26.]\n"
     ]
    }
   ],
   "source": [
    "print(np.around(a))"
   ]
  },
  {
   "cell_type": "code",
   "execution_count": 53,
   "id": "60cd9ce2",
   "metadata": {},
   "outputs": [
    {
     "name": "stdout",
     "output_type": "stream",
     "text": [
      "[  1.    5.6 123.    0.6  25.5]\n"
     ]
    }
   ],
   "source": [
    "print(np.around(a,decimals=1))"
   ]
  },
  {
   "cell_type": "code",
   "execution_count": 54,
   "id": "eaf46ab5",
   "metadata": {},
   "outputs": [
    {
     "name": "stdout",
     "output_type": "stream",
     "text": [
      "[  0.  10. 120.   0.  30.]\n"
     ]
    }
   ],
   "source": [
    "print(np.around(a,decimals=-1))"
   ]
  },
  {
   "cell_type": "markdown",
   "id": "97843002",
   "metadata": {},
   "source": [
    "### numpu.floor"
   ]
  },
  {
   "cell_type": "code",
   "execution_count": 55,
   "id": "75a76d87",
   "metadata": {},
   "outputs": [],
   "source": [
    "a=np.array([-1.7,1.5,-0.2,0.6,10])"
   ]
  },
  {
   "cell_type": "code",
   "execution_count": 57,
   "id": "a74e83bf",
   "metadata": {},
   "outputs": [
    {
     "name": "stdout",
     "output_type": "stream",
     "text": [
      "The given array:\n"
     ]
    }
   ],
   "source": [
    "print('The given array:')"
   ]
  },
  {
   "cell_type": "code",
   "execution_count": 58,
   "id": "f9e4fefd",
   "metadata": {},
   "outputs": [
    {
     "name": "stdout",
     "output_type": "stream",
     "text": [
      "[-1.7  1.5 -0.2  0.6 10. ]\n"
     ]
    }
   ],
   "source": [
    "print(a)"
   ]
  },
  {
   "cell_type": "code",
   "execution_count": 59,
   "id": "bbfcbd3d",
   "metadata": {},
   "outputs": [
    {
     "name": "stdout",
     "output_type": "stream",
     "text": [
      "\n",
      "\n"
     ]
    }
   ],
   "source": [
    "print('\\n')"
   ]
  },
  {
   "cell_type": "code",
   "execution_count": 60,
   "id": "dd2fbb9e",
   "metadata": {},
   "outputs": [
    {
     "name": "stdout",
     "output_type": "stream",
     "text": [
      "The modified array\n"
     ]
    }
   ],
   "source": [
    "print('The modified array')"
   ]
  },
  {
   "cell_type": "code",
   "execution_count": 61,
   "id": "ac1a7af3",
   "metadata": {},
   "outputs": [
    {
     "name": "stdout",
     "output_type": "stream",
     "text": [
      "[-2.  1. -1.  0. 10.]\n"
     ]
    }
   ],
   "source": [
    "print(np.floor(a))"
   ]
  },
  {
   "cell_type": "markdown",
   "id": "5fb225bb",
   "metadata": {},
   "source": [
    "### numpy.ceil"
   ]
  },
  {
   "cell_type": "code",
   "execution_count": 62,
   "id": "ae04a5d8",
   "metadata": {},
   "outputs": [],
   "source": [
    "a=np.array([-1.7,1.5,-0.2,0.6,10])"
   ]
  },
  {
   "cell_type": "code",
   "execution_count": 63,
   "id": "cda08997",
   "metadata": {},
   "outputs": [
    {
     "name": "stdout",
     "output_type": "stream",
     "text": [
      "The given array:\n"
     ]
    }
   ],
   "source": [
    "print('The given array:')"
   ]
  },
  {
   "cell_type": "code",
   "execution_count": 64,
   "id": "eb5e57e6",
   "metadata": {},
   "outputs": [
    {
     "name": "stdout",
     "output_type": "stream",
     "text": [
      "[-1.7  1.5 -0.2  0.6 10. ]\n"
     ]
    }
   ],
   "source": [
    "print(a)"
   ]
  },
  {
   "cell_type": "code",
   "execution_count": 65,
   "id": "228f6e31",
   "metadata": {},
   "outputs": [
    {
     "name": "stdout",
     "output_type": "stream",
     "text": [
      "\n",
      "\n"
     ]
    }
   ],
   "source": [
    "print('\\n')"
   ]
  },
  {
   "cell_type": "code",
   "execution_count": 66,
   "id": "d0b96ad8",
   "metadata": {},
   "outputs": [
    {
     "name": "stdout",
     "output_type": "stream",
     "text": [
      "The modified array\n"
     ]
    }
   ],
   "source": [
    "print('The modified array')"
   ]
  },
  {
   "cell_type": "code",
   "execution_count": 67,
   "id": "2d9d4bc0",
   "metadata": {},
   "outputs": [
    {
     "name": "stdout",
     "output_type": "stream",
     "text": [
      "[-1.  2. -0.  1. 10.]\n"
     ]
    }
   ],
   "source": [
    "print(np.ceil(a))"
   ]
  },
  {
   "cell_type": "code",
   "execution_count": null,
   "id": "8b521eba",
   "metadata": {},
   "outputs": [],
   "source": []
  }
 ],
 "metadata": {
  "kernelspec": {
   "display_name": "Python 3 (ipykernel)",
   "language": "python",
   "name": "python3"
  },
  "language_info": {
   "codemirror_mode": {
    "name": "ipython",
    "version": 3
   },
   "file_extension": ".py",
   "mimetype": "text/x-python",
   "name": "python",
   "nbconvert_exporter": "python",
   "pygments_lexer": "ipython3",
   "version": "3.10.5"
  }
 },
 "nbformat": 4,
 "nbformat_minor": 5
}
