{
 "cells": [
  {
   "cell_type": "markdown",
   "id": "f027892e",
   "metadata": {},
   "source": [
    "### Matrix Library"
   ]
  },
  {
   "cell_type": "code",
   "execution_count": 1,
   "id": "17683500",
   "metadata": {},
   "outputs": [],
   "source": [
    "import numpy as np"
   ]
  },
  {
   "cell_type": "code",
   "execution_count": 3,
   "id": "30b39ef0",
   "metadata": {},
   "outputs": [],
   "source": [
    "import numpy.matlib"
   ]
  },
  {
   "cell_type": "code",
   "execution_count": 4,
   "id": "bdcc121c",
   "metadata": {},
   "outputs": [
    {
     "name": "stdout",
     "output_type": "stream",
     "text": [
      "[[2.12199579e-314 6.81160649e-312]\n",
      " [1.85768683e-321 3.79442416e-321]]\n"
     ]
    }
   ],
   "source": [
    "print(np.matlib.empty((2,2)))"
   ]
  },
  {
   "cell_type": "code",
   "execution_count": 5,
   "id": "ec531317",
   "metadata": {},
   "outputs": [
    {
     "name": "stdout",
     "output_type": "stream",
     "text": [
      "[[0. 0.]\n",
      " [0. 0.]]\n"
     ]
    }
   ],
   "source": [
    "print(np.matlib.zeros((2,2)))"
   ]
  },
  {
   "cell_type": "code",
   "execution_count": 7,
   "id": "ad503a90",
   "metadata": {},
   "outputs": [
    {
     "name": "stdout",
     "output_type": "stream",
     "text": [
      "[[1. 1.]\n",
      " [1. 1.]]\n"
     ]
    }
   ],
   "source": [
    "print(np.matlib.ones((2,2)))"
   ]
  },
  {
   "cell_type": "code",
   "execution_count": 9,
   "id": "1b655bf8",
   "metadata": {},
   "outputs": [
    {
     "data": {
      "text/plain": [
       "matrix([[1., 0., 0., 0.],\n",
       "        [0., 1., 0., 0.],\n",
       "        [0., 0., 1., 0.]])"
      ]
     },
     "execution_count": 9,
     "metadata": {},
     "output_type": "execute_result"
    }
   ],
   "source": [
    "numpy.matlib.eye(n=3,M=4,k=0,dtype=float)"
   ]
  },
  {
   "cell_type": "code",
   "execution_count": 10,
   "id": "a78d981a",
   "metadata": {},
   "outputs": [
    {
     "name": "stdout",
     "output_type": "stream",
     "text": [
      "[[1. 0. 0. 0. 0.]\n",
      " [0. 1. 0. 0. 0.]\n",
      " [0. 0. 1. 0. 0.]\n",
      " [0. 0. 0. 1. 0.]\n",
      " [0. 0. 0. 0. 1.]]\n"
     ]
    }
   ],
   "source": [
    "print(np.matlib.identity(5,dtype=float))"
   ]
  },
  {
   "cell_type": "code",
   "execution_count": 11,
   "id": "427ce98c",
   "metadata": {},
   "outputs": [
    {
     "name": "stdout",
     "output_type": "stream",
     "text": [
      "[[0.7682393  0.75339824 0.91184219]\n",
      " [0.14298313 0.2145262  0.90352277]\n",
      " [0.31183566 0.90070107 0.66850501]]\n"
     ]
    }
   ],
   "source": [
    "print(np.matlib.rand(3,3))"
   ]
  },
  {
   "cell_type": "code",
   "execution_count": 12,
   "id": "c5d6d3eb",
   "metadata": {},
   "outputs": [],
   "source": [
    "i=np.matrix('1,2;3,4')"
   ]
  },
  {
   "cell_type": "code",
   "execution_count": 13,
   "id": "2c46ef83",
   "metadata": {},
   "outputs": [
    {
     "name": "stdout",
     "output_type": "stream",
     "text": [
      "[[1 2]\n",
      " [3 4]]\n"
     ]
    }
   ],
   "source": [
    "print(i)"
   ]
  },
  {
   "cell_type": "code",
   "execution_count": 14,
   "id": "06174087",
   "metadata": {},
   "outputs": [],
   "source": [
    "k=np.asmatrix"
   ]
  },
  {
   "cell_type": "code",
   "execution_count": 15,
   "id": "a99018c1",
   "metadata": {},
   "outputs": [
    {
     "name": "stdout",
     "output_type": "stream",
     "text": [
      "<function asmatrix at 0x000001416DDD1900>\n"
     ]
    }
   ],
   "source": [
    "print(k)"
   ]
  },
  {
   "cell_type": "code",
   "execution_count": null,
   "id": "19b0bc98",
   "metadata": {},
   "outputs": [],
   "source": []
  }
 ],
 "metadata": {
  "kernelspec": {
   "display_name": "Python 3 (ipykernel)",
   "language": "python",
   "name": "python3"
  },
  "language_info": {
   "codemirror_mode": {
    "name": "ipython",
    "version": 3
   },
   "file_extension": ".py",
   "mimetype": "text/x-python",
   "name": "python",
   "nbconvert_exporter": "python",
   "pygments_lexer": "ipython3",
   "version": "3.10.5"
  }
 },
 "nbformat": 4,
 "nbformat_minor": 5
}
