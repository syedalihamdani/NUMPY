{
 "cells": [
  {
   "cell_type": "code",
   "execution_count": 1,
   "id": "dfbdb685",
   "metadata": {},
   "outputs": [],
   "source": [
    "import numpy as np"
   ]
  },
  {
   "cell_type": "code",
   "execution_count": 2,
   "id": "f903ff62",
   "metadata": {},
   "outputs": [],
   "source": [
    "a=np.array([1,256,8755],dtype=np.int16)"
   ]
  },
  {
   "cell_type": "code",
   "execution_count": 3,
   "id": "c4849591",
   "metadata": {},
   "outputs": [
    {
     "name": "stdout",
     "output_type": "stream",
     "text": [
      "[   1  256 8755]\n"
     ]
    }
   ],
   "source": [
    "print(a)"
   ]
  },
  {
   "cell_type": "code",
   "execution_count": 4,
   "id": "1a88b806",
   "metadata": {},
   "outputs": [
    {
     "name": "stdout",
     "output_type": "stream",
     "text": [
      "Representation of data in memory in hexdecimal form:\n"
     ]
    }
   ],
   "source": [
    "print('Representation of data in memory in hexdecimal form:')"
   ]
  },
  {
   "cell_type": "code",
   "execution_count": 5,
   "id": "8e78a158",
   "metadata": {},
   "outputs": [
    {
     "name": "stdout",
     "output_type": "stream",
     "text": [
      "<map object at 0x000001CE76651AB0>\n"
     ]
    }
   ],
   "source": [
    "print(map(hex,a))"
   ]
  },
  {
   "cell_type": "code",
   "execution_count": 6,
   "id": "e998342a",
   "metadata": {},
   "outputs": [
    {
     "name": "stdout",
     "output_type": "stream",
     "text": [
      "Applying byteswap() function:\n"
     ]
    }
   ],
   "source": [
    "print(\"Applying byteswap() function:\")"
   ]
  },
  {
   "cell_type": "code",
   "execution_count": 7,
   "id": "de8000c2",
   "metadata": {},
   "outputs": [
    {
     "name": "stdout",
     "output_type": "stream",
     "text": [
      "[  256     1 13090]\n"
     ]
    }
   ],
   "source": [
    "print(a.byteswap(True))"
   ]
  },
  {
   "cell_type": "code",
   "execution_count": 8,
   "id": "72dbe5ae",
   "metadata": {},
   "outputs": [
    {
     "name": "stdout",
     "output_type": "stream",
     "text": [
      "In hexadecimal form:\n"
     ]
    }
   ],
   "source": [
    "print('In hexadecimal form:')"
   ]
  },
  {
   "cell_type": "code",
   "execution_count": 9,
   "id": "8f640412",
   "metadata": {},
   "outputs": [
    {
     "name": "stdout",
     "output_type": "stream",
     "text": [
      "<map object at 0x000001CE76651A80>\n"
     ]
    }
   ],
   "source": [
    "print(map(hex,a))"
   ]
  },
  {
   "cell_type": "code",
   "execution_count": 10,
   "id": "4aff0d59",
   "metadata": {},
   "outputs": [],
   "source": [
    "a=np.arange(6)"
   ]
  },
  {
   "cell_type": "code",
   "execution_count": 11,
   "id": "8bbf4818",
   "metadata": {},
   "outputs": [
    {
     "name": "stdout",
     "output_type": "stream",
     "text": [
      "[0 1 2 3 4 5]\n"
     ]
    }
   ],
   "source": [
    "print(a)"
   ]
  },
  {
   "cell_type": "code",
   "execution_count": 12,
   "id": "df407c2c",
   "metadata": {},
   "outputs": [
    {
     "name": "stdout",
     "output_type": "stream",
     "text": [
      "1986156254032\n"
     ]
    }
   ],
   "source": [
    "print(id(a))"
   ]
  },
  {
   "cell_type": "code",
   "execution_count": 13,
   "id": "71d7a24c",
   "metadata": {},
   "outputs": [
    {
     "name": "stdout",
     "output_type": "stream",
     "text": [
      "a is assigned to b:\n"
     ]
    }
   ],
   "source": [
    "print(\"a is assigned to b:\")"
   ]
  },
  {
   "cell_type": "code",
   "execution_count": 14,
   "id": "7fc4252e",
   "metadata": {},
   "outputs": [],
   "source": [
    "b=a"
   ]
  },
  {
   "cell_type": "code",
   "execution_count": 15,
   "id": "e3164994",
   "metadata": {},
   "outputs": [
    {
     "name": "stdout",
     "output_type": "stream",
     "text": [
      "[0 1 2 3 4 5]\n"
     ]
    }
   ],
   "source": [
    "print(b)"
   ]
  },
  {
   "cell_type": "code",
   "execution_count": 16,
   "id": "e34a2211",
   "metadata": {},
   "outputs": [
    {
     "name": "stdout",
     "output_type": "stream",
     "text": [
      "b has same id():\n"
     ]
    }
   ],
   "source": [
    "print('b has same id():')"
   ]
  },
  {
   "cell_type": "code",
   "execution_count": 17,
   "id": "81035f39",
   "metadata": {},
   "outputs": [
    {
     "name": "stdout",
     "output_type": "stream",
     "text": [
      "1986156254032\n"
     ]
    }
   ],
   "source": [
    "print(id(b))"
   ]
  },
  {
   "cell_type": "code",
   "execution_count": 18,
   "id": "f62b47ad",
   "metadata": {},
   "outputs": [
    {
     "name": "stdout",
     "output_type": "stream",
     "text": [
      "Change shape of b\n"
     ]
    }
   ],
   "source": [
    "print('Change shape of b')"
   ]
  },
  {
   "cell_type": "code",
   "execution_count": 19,
   "id": "852341dd",
   "metadata": {},
   "outputs": [],
   "source": [
    "b.shape=3,2"
   ]
  },
  {
   "cell_type": "code",
   "execution_count": 20,
   "id": "1e45c870",
   "metadata": {},
   "outputs": [
    {
     "name": "stdout",
     "output_type": "stream",
     "text": [
      "[[0 1]\n",
      " [2 3]\n",
      " [4 5]]\n"
     ]
    }
   ],
   "source": [
    "print(b)"
   ]
  },
  {
   "cell_type": "code",
   "execution_count": 21,
   "id": "ac4d341d",
   "metadata": {},
   "outputs": [
    {
     "name": "stdout",
     "output_type": "stream",
     "text": [
      "Shape of a also gets changed:\n"
     ]
    }
   ],
   "source": [
    "print('Shape of a also gets changed:')"
   ]
  },
  {
   "cell_type": "code",
   "execution_count": 22,
   "id": "9198d57a",
   "metadata": {},
   "outputs": [
    {
     "name": "stdout",
     "output_type": "stream",
     "text": [
      "[[0 1]\n",
      " [2 3]\n",
      " [4 5]]\n"
     ]
    }
   ],
   "source": [
    "print(a)"
   ]
  },
  {
   "cell_type": "markdown",
   "id": "a91997ac",
   "metadata": {},
   "source": [
    "### ndarray.view"
   ]
  },
  {
   "cell_type": "code",
   "execution_count": 23,
   "id": "d41416c9",
   "metadata": {},
   "outputs": [],
   "source": [
    "a=np.arange(6).reshape(3,2)"
   ]
  },
  {
   "cell_type": "code",
   "execution_count": 24,
   "id": "ded37fd3",
   "metadata": {},
   "outputs": [
    {
     "name": "stdout",
     "output_type": "stream",
     "text": [
      "[[0 1]\n",
      " [2 3]\n",
      " [4 5]]\n"
     ]
    }
   ],
   "source": [
    "print(a)"
   ]
  },
  {
   "cell_type": "code",
   "execution_count": 25,
   "id": "e6a5f195",
   "metadata": {},
   "outputs": [],
   "source": [
    "b=(a.view())"
   ]
  },
  {
   "cell_type": "code",
   "execution_count": 26,
   "id": "91485510",
   "metadata": {},
   "outputs": [
    {
     "name": "stdout",
     "output_type": "stream",
     "text": [
      "[[0 1]\n",
      " [2 3]\n",
      " [4 5]]\n"
     ]
    }
   ],
   "source": [
    "print(b)"
   ]
  },
  {
   "cell_type": "code",
   "execution_count": 27,
   "id": "d380ea80",
   "metadata": {},
   "outputs": [
    {
     "name": "stdout",
     "output_type": "stream",
     "text": [
      "1986261102352\n"
     ]
    }
   ],
   "source": [
    "print(id(a))"
   ]
  },
  {
   "cell_type": "code",
   "execution_count": 28,
   "id": "eeba059a",
   "metadata": {},
   "outputs": [
    {
     "name": "stdout",
     "output_type": "stream",
     "text": [
      "1986261102448\n"
     ]
    }
   ],
   "source": [
    "print(id(b))"
   ]
  },
  {
   "cell_type": "markdown",
   "id": "9f21d78c",
   "metadata": {},
   "source": [
    "#### Change the shape of b. It does not change the shape of a"
   ]
  },
  {
   "cell_type": "markdown",
   "id": "a3066056",
   "metadata": {},
   "source": [
    "b.shape=2,3"
   ]
  },
  {
   "cell_type": "code",
   "execution_count": 32,
   "id": "d7204e63",
   "metadata": {},
   "outputs": [
    {
     "name": "stdout",
     "output_type": "stream",
     "text": [
      "[[0 1]\n",
      " [2 3]\n",
      " [4 5]]\n"
     ]
    }
   ],
   "source": [
    "print(b)"
   ]
  },
  {
   "cell_type": "markdown",
   "id": "027ac0a5",
   "metadata": {},
   "source": [
    "### Deep Copy"
   ]
  },
  {
   "cell_type": "code",
   "execution_count": 33,
   "id": "2c08f813",
   "metadata": {},
   "outputs": [],
   "source": [
    "a=np.array([[10,10],[2,3],[4,5]])"
   ]
  },
  {
   "cell_type": "code",
   "execution_count": 34,
   "id": "ca5b5545",
   "metadata": {},
   "outputs": [
    {
     "name": "stdout",
     "output_type": "stream",
     "text": [
      "[[10 10]\n",
      " [ 2  3]\n",
      " [ 4  5]]\n"
     ]
    }
   ],
   "source": [
    "print(a)"
   ]
  },
  {
   "cell_type": "code",
   "execution_count": 35,
   "id": "af26757a",
   "metadata": {},
   "outputs": [
    {
     "name": "stdout",
     "output_type": "stream",
     "text": [
      "Create a deep copy of a:\n"
     ]
    }
   ],
   "source": [
    "print('Create a deep copy of a:')"
   ]
  },
  {
   "cell_type": "code",
   "execution_count": 36,
   "id": "2fef2232",
   "metadata": {},
   "outputs": [],
   "source": [
    "b=a.copy()"
   ]
  },
  {
   "cell_type": "code",
   "execution_count": 37,
   "id": "76c66f4a",
   "metadata": {},
   "outputs": [
    {
     "name": "stdout",
     "output_type": "stream",
     "text": [
      "[[10 10]\n",
      " [ 2  3]\n",
      " [ 4  5]]\n"
     ]
    }
   ],
   "source": [
    "print(b)"
   ]
  },
  {
   "cell_type": "code",
   "execution_count": 38,
   "id": "562b8849",
   "metadata": {},
   "outputs": [
    {
     "name": "stdout",
     "output_type": "stream",
     "text": [
      "False\n"
     ]
    }
   ],
   "source": [
    "print( b is a)"
   ]
  },
  {
   "cell_type": "code",
   "execution_count": 39,
   "id": "7e8aa616",
   "metadata": {},
   "outputs": [],
   "source": [
    "b[0,0]=100"
   ]
  },
  {
   "cell_type": "code",
   "execution_count": 40,
   "id": "8353c504",
   "metadata": {},
   "outputs": [
    {
     "name": "stdout",
     "output_type": "stream",
     "text": [
      "[[100  10]\n",
      " [  2   3]\n",
      " [  4   5]]\n"
     ]
    }
   ],
   "source": [
    "print(b)"
   ]
  },
  {
   "cell_type": "code",
   "execution_count": null,
   "id": "9da5d0ee",
   "metadata": {},
   "outputs": [],
   "source": []
  }
 ],
 "metadata": {
  "kernelspec": {
   "display_name": "Python 3 (ipykernel)",
   "language": "python",
   "name": "python3"
  },
  "language_info": {
   "codemirror_mode": {
    "name": "ipython",
    "version": 3
   },
   "file_extension": ".py",
   "mimetype": "text/x-python",
   "name": "python",
   "nbconvert_exporter": "python",
   "pygments_lexer": "ipython3",
   "version": "3.10.5"
  }
 },
 "nbformat": 4,
 "nbformat_minor": 5
}
