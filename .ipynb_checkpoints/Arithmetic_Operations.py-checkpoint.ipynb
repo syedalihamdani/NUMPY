{
 "cells": [
  {
   "cell_type": "code",
   "execution_count": 1,
   "id": "94dd85ef",
   "metadata": {},
   "outputs": [],
   "source": [
    "import numpy as np"
   ]
  },
  {
   "cell_type": "code",
   "execution_count": 3,
   "id": "fd7388db",
   "metadata": {},
   "outputs": [],
   "source": [
    "a=np.arange(9,dtype=np.float_).reshape(3,3)"
   ]
  },
  {
   "cell_type": "code",
   "execution_count": 4,
   "id": "9027de96",
   "metadata": {},
   "outputs": [
    {
     "name": "stdout",
     "output_type": "stream",
     "text": [
      "[[0. 1. 2.]\n",
      " [3. 4. 5.]\n",
      " [6. 7. 8.]]\n"
     ]
    }
   ],
   "source": [
    "print(a)"
   ]
  },
  {
   "cell_type": "code",
   "execution_count": 5,
   "id": "2d774ec4",
   "metadata": {},
   "outputs": [],
   "source": [
    "b=np.array([10,10,10])"
   ]
  },
  {
   "cell_type": "code",
   "execution_count": 6,
   "id": "aa3f2583",
   "metadata": {},
   "outputs": [
    {
     "name": "stdout",
     "output_type": "stream",
     "text": [
      "[10 10 10]\n"
     ]
    }
   ],
   "source": [
    "print(b)"
   ]
  },
  {
   "cell_type": "code",
   "execution_count": 7,
   "id": "e7c78e39",
   "metadata": {},
   "outputs": [],
   "source": [
    "#  Adding two arays"
   ]
  },
  {
   "cell_type": "code",
   "execution_count": 8,
   "id": "ca07ec7b",
   "metadata": {},
   "outputs": [
    {
     "name": "stdout",
     "output_type": "stream",
     "text": [
      "[[10. 11. 12.]\n",
      " [13. 14. 15.]\n",
      " [16. 17. 18.]]\n"
     ]
    }
   ],
   "source": [
    "print(np.add(a,b))"
   ]
  },
  {
   "cell_type": "code",
   "execution_count": 9,
   "id": "589b6743",
   "metadata": {},
   "outputs": [],
   "source": [
    "# Subtracting the two arrays"
   ]
  },
  {
   "cell_type": "code",
   "execution_count": 11,
   "id": "96f99cb5",
   "metadata": {},
   "outputs": [
    {
     "name": "stdout",
     "output_type": "stream",
     "text": [
      "[[-10.  -9.  -8.]\n",
      " [ -7.  -6.  -5.]\n",
      " [ -4.  -3.  -2.]]\n"
     ]
    }
   ],
   "source": [
    "print(np.subtract(a,b))"
   ]
  },
  {
   "cell_type": "code",
   "execution_count": 12,
   "id": "1cf6aad1",
   "metadata": {},
   "outputs": [],
   "source": [
    "#  Multiply the two arrays"
   ]
  },
  {
   "cell_type": "code",
   "execution_count": 13,
   "id": "e758d181",
   "metadata": {},
   "outputs": [
    {
     "name": "stdout",
     "output_type": "stream",
     "text": [
      "[[ 0. 10. 20.]\n",
      " [30. 40. 50.]\n",
      " [60. 70. 80.]]\n"
     ]
    }
   ],
   "source": [
    "print(np.multiply(a,b))"
   ]
  },
  {
   "cell_type": "code",
   "execution_count": 14,
   "id": "8da8ae1d",
   "metadata": {},
   "outputs": [
    {
     "name": "stdout",
     "output_type": "stream",
     "text": [
      "Divide the two arrays\n"
     ]
    }
   ],
   "source": [
    "print('Divide the two arrays')"
   ]
  },
  {
   "cell_type": "code",
   "execution_count": 15,
   "id": "f58609ae",
   "metadata": {},
   "outputs": [
    {
     "name": "stdout",
     "output_type": "stream",
     "text": [
      "[[0.  0.1 0.2]\n",
      " [0.3 0.4 0.5]\n",
      " [0.6 0.7 0.8]]\n"
     ]
    }
   ],
   "source": [
    "print(np.divide(a,b))"
   ]
  },
  {
   "cell_type": "markdown",
   "id": "e604baf0",
   "metadata": {},
   "source": [
    "### numpy.reciprocal"
   ]
  },
  {
   "cell_type": "code",
   "execution_count": 16,
   "id": "bdea8448",
   "metadata": {},
   "outputs": [],
   "source": [
    "a=np.array([0.25,1.33,1,0,100])"
   ]
  },
  {
   "cell_type": "code",
   "execution_count": 17,
   "id": "01642cb8",
   "metadata": {},
   "outputs": [
    {
     "name": "stdout",
     "output_type": "stream",
     "text": [
      "[  0.25   1.33   1.     0.   100.  ]\n"
     ]
    }
   ],
   "source": [
    "print(a)"
   ]
  },
  {
   "cell_type": "code",
   "execution_count": 18,
   "id": "d3f28493",
   "metadata": {},
   "outputs": [
    {
     "name": "stdout",
     "output_type": "stream",
     "text": [
      "After applying reciprocal function:\n"
     ]
    }
   ],
   "source": [
    "print('After applying reciprocal function:')"
   ]
  },
  {
   "cell_type": "code",
   "execution_count": 19,
   "id": "e62ddd50",
   "metadata": {},
   "outputs": [
    {
     "name": "stdout",
     "output_type": "stream",
     "text": [
      "[4.        0.7518797 1.              inf 0.01     ]\n"
     ]
    },
    {
     "name": "stderr",
     "output_type": "stream",
     "text": [
      "C:\\Users\\Umair IT Solution\\AppData\\Local\\Temp\\ipykernel_9564\\1318945546.py:1: RuntimeWarning: divide by zero encountered in reciprocal\n",
      "  print(np.reciprocal(a))\n"
     ]
    }
   ],
   "source": [
    "print(np.reciprocal(a))"
   ]
  },
  {
   "cell_type": "code",
   "execution_count": 20,
   "id": "30544a9d",
   "metadata": {},
   "outputs": [],
   "source": [
    "b=np.array([100],dtype=int)"
   ]
  },
  {
   "cell_type": "code",
   "execution_count": 21,
   "id": "4cedef39",
   "metadata": {},
   "outputs": [
    {
     "name": "stdout",
     "output_type": "stream",
     "text": [
      "[100]\n"
     ]
    }
   ],
   "source": [
    "print(b)"
   ]
  },
  {
   "cell_type": "code",
   "execution_count": 22,
   "id": "701fc824",
   "metadata": {},
   "outputs": [
    {
     "name": "stdout",
     "output_type": "stream",
     "text": [
      "[0]\n"
     ]
    }
   ],
   "source": [
    "print(np.reciprocal(b))"
   ]
  },
  {
   "cell_type": "markdown",
   "id": "9b007bec",
   "metadata": {},
   "source": [
    "### numpy.power()"
   ]
  },
  {
   "cell_type": "code",
   "execution_count": 23,
   "id": "4001a53e",
   "metadata": {},
   "outputs": [],
   "source": [
    "a=np.array([10,100,1000])"
   ]
  },
  {
   "cell_type": "code",
   "execution_count": 24,
   "id": "1707f676",
   "metadata": {},
   "outputs": [
    {
     "name": "stdout",
     "output_type": "stream",
     "text": [
      "[  10  100 1000]\n"
     ]
    }
   ],
   "source": [
    "print(a)"
   ]
  },
  {
   "cell_type": "code",
   "execution_count": 25,
   "id": "e859f969",
   "metadata": {},
   "outputs": [
    {
     "name": "stdout",
     "output_type": "stream",
     "text": [
      "Applying power function\n"
     ]
    }
   ],
   "source": [
    "print(\"Applying power function\")"
   ]
  },
  {
   "cell_type": "code",
   "execution_count": 30,
   "id": "0de3bb2f",
   "metadata": {},
   "outputs": [
    {
     "name": "stdout",
     "output_type": "stream",
     "text": [
      "[    100   10000 1000000]\n"
     ]
    }
   ],
   "source": [
    "print(np.power(a,2))"
   ]
  },
  {
   "cell_type": "markdown",
   "id": "1280de78",
   "metadata": {},
   "source": [
    "### numpy.mod()"
   ]
  },
  {
   "cell_type": "markdown",
   "id": "e822832e",
   "metadata": {},
   "source": [
    "##### This give us the remainder"
   ]
  },
  {
   "cell_type": "code",
   "execution_count": 31,
   "id": "654143a0",
   "metadata": {},
   "outputs": [],
   "source": [
    "a=np.array([10,20,30])"
   ]
  },
  {
   "cell_type": "code",
   "execution_count": 32,
   "id": "9418f63d",
   "metadata": {},
   "outputs": [],
   "source": [
    "b=np.array([3,5,7])"
   ]
  },
  {
   "cell_type": "code",
   "execution_count": 33,
   "id": "80df1002",
   "metadata": {},
   "outputs": [
    {
     "name": "stdout",
     "output_type": "stream",
     "text": [
      "[10 20 30]\n"
     ]
    }
   ],
   "source": [
    "print(a)"
   ]
  },
  {
   "cell_type": "code",
   "execution_count": 34,
   "id": "e3936e2d",
   "metadata": {},
   "outputs": [
    {
     "name": "stdout",
     "output_type": "stream",
     "text": [
      "[3 5 7]\n"
     ]
    }
   ],
   "source": [
    "print(b)"
   ]
  },
  {
   "cell_type": "code",
   "execution_count": 35,
   "id": "17693e4d",
   "metadata": {},
   "outputs": [
    {
     "name": "stdout",
     "output_type": "stream",
     "text": [
      "[1 0 2]\n"
     ]
    }
   ],
   "source": [
    "print(np.mod(a,b))"
   ]
  },
  {
   "cell_type": "code",
   "execution_count": 36,
   "id": "aafb0732",
   "metadata": {},
   "outputs": [
    {
     "name": "stdout",
     "output_type": "stream",
     "text": [
      "[1 0 2]\n"
     ]
    }
   ],
   "source": [
    "print(np.remainder(a,b))"
   ]
  },
  {
   "cell_type": "code",
   "execution_count": 37,
   "id": "06a58aad",
   "metadata": {},
   "outputs": [],
   "source": [
    "a=np.array([-5.6j,0.2j,11,1+1j])"
   ]
  },
  {
   "cell_type": "code",
   "execution_count": 38,
   "id": "d4a8a68d",
   "metadata": {},
   "outputs": [
    {
     "name": "stdout",
     "output_type": "stream",
     "text": [
      "[-0.-5.6j  0.+0.2j 11.+0.j   1.+1.j ]\n"
     ]
    }
   ],
   "source": [
    "print(a)"
   ]
  },
  {
   "cell_type": "code",
   "execution_count": 39,
   "id": "af0044ce",
   "metadata": {},
   "outputs": [
    {
     "name": "stdout",
     "output_type": "stream",
     "text": [
      "[-0.  0. 11.  1.]\n"
     ]
    }
   ],
   "source": [
    "print(np.real(a))"
   ]
  },
  {
   "cell_type": "code",
   "execution_count": 40,
   "id": "c633023c",
   "metadata": {},
   "outputs": [
    {
     "name": "stdout",
     "output_type": "stream",
     "text": [
      "[-5.6  0.2  0.   1. ]\n"
     ]
    }
   ],
   "source": [
    "print(np.imag(a))"
   ]
  },
  {
   "cell_type": "code",
   "execution_count": 41,
   "id": "acc80a96",
   "metadata": {},
   "outputs": [
    {
     "name": "stdout",
     "output_type": "stream",
     "text": [
      "[-0.+5.6j  0.-0.2j 11.-0.j   1.-1.j ]\n"
     ]
    }
   ],
   "source": [
    "print(np.conj(a))"
   ]
  },
  {
   "cell_type": "code",
   "execution_count": 42,
   "id": "c4d57a6b",
   "metadata": {},
   "outputs": [
    {
     "name": "stdout",
     "output_type": "stream",
     "text": [
      "[-1.57079633  1.57079633  0.          0.78539816]\n"
     ]
    }
   ],
   "source": [
    "print(np.angle(a))"
   ]
  },
  {
   "cell_type": "code",
   "execution_count": 43,
   "id": "01cbaa57",
   "metadata": {},
   "outputs": [
    {
     "name": "stdout",
     "output_type": "stream",
     "text": [
      "[-90.  90.   0.  45.]\n"
     ]
    }
   ],
   "source": [
    "print(np.angle(a,deg=True))"
   ]
  },
  {
   "cell_type": "code",
   "execution_count": null,
   "id": "fb7c4283",
   "metadata": {},
   "outputs": [],
   "source": []
  }
 ],
 "metadata": {
  "kernelspec": {
   "display_name": "Python 3 (ipykernel)",
   "language": "python",
   "name": "python3"
  },
  "language_info": {
   "codemirror_mode": {
    "name": "ipython",
    "version": 3
   },
   "file_extension": ".py",
   "mimetype": "text/x-python",
   "name": "python",
   "nbconvert_exporter": "python",
   "pygments_lexer": "ipython3",
   "version": "3.10.5"
  }
 },
 "nbformat": 4,
 "nbformat_minor": 5
}
