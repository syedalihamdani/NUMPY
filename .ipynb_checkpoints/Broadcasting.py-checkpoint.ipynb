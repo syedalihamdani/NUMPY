{
 "cells": [
  {
   "cell_type": "markdown",
   "id": "45b925db",
   "metadata": {},
   "source": [
    "# Broadcasting means the ability of numpy to deal with the different types of arrays during the arithmetic operations"
   ]
  },
  {
   "cell_type": "code",
   "execution_count": 1,
   "id": "7bb6ae4e",
   "metadata": {},
   "outputs": [],
   "source": [
    "import numpy as np"
   ]
  },
  {
   "cell_type": "markdown",
   "id": "691555a8",
   "metadata": {},
   "source": [
    "### Broadcasting is easy if the arrays are the same like this"
   ]
  },
  {
   "cell_type": "code",
   "execution_count": 2,
   "id": "d4746c9a",
   "metadata": {},
   "outputs": [],
   "source": [
    "a=np.array([1,2,3,4])"
   ]
  },
  {
   "cell_type": "code",
   "execution_count": 3,
   "id": "629ef998",
   "metadata": {},
   "outputs": [],
   "source": [
    "b=np.array([11,22,33,44])"
   ]
  },
  {
   "cell_type": "code",
   "execution_count": 4,
   "id": "f6270cee",
   "metadata": {},
   "outputs": [],
   "source": [
    "c=a*b"
   ]
  },
  {
   "cell_type": "code",
   "execution_count": 5,
   "id": "2d002ef6",
   "metadata": {},
   "outputs": [
    {
     "name": "stdout",
     "output_type": "stream",
     "text": [
      "[ 11  44  99 176]\n"
     ]
    }
   ],
   "source": [
    "print(c)"
   ]
  },
  {
   "cell_type": "code",
   "execution_count": 6,
   "id": "7b74b9c1",
   "metadata": {},
   "outputs": [],
   "source": [
    "a2=np.array([[0.0,0.0,0.0],[10.0,10.0,10.0]])"
   ]
  },
  {
   "cell_type": "code",
   "execution_count": 7,
   "id": "e362a1db",
   "metadata": {},
   "outputs": [
    {
     "name": "stdout",
     "output_type": "stream",
     "text": [
      "[[ 0.  0.  0.]\n",
      " [10. 10. 10.]]\n"
     ]
    }
   ],
   "source": [
    "print(a2)"
   ]
  },
  {
   "cell_type": "code",
   "execution_count": 8,
   "id": "8e32dcd8",
   "metadata": {},
   "outputs": [],
   "source": [
    "b2=np.array([[1.0,2.0,3.0]])"
   ]
  },
  {
   "cell_type": "code",
   "execution_count": 9,
   "id": "01371720",
   "metadata": {},
   "outputs": [
    {
     "name": "stdout",
     "output_type": "stream",
     "text": [
      "[[1. 2. 3.]]\n"
     ]
    }
   ],
   "source": [
    "print(b2)"
   ]
  },
  {
   "cell_type": "code",
   "execution_count": 10,
   "id": "692c7744",
   "metadata": {},
   "outputs": [
    {
     "name": "stdout",
     "output_type": "stream",
     "text": [
      "First array\n"
     ]
    }
   ],
   "source": [
    "print('First array')"
   ]
  },
  {
   "cell_type": "code",
   "execution_count": 19,
   "id": "94829ef1",
   "metadata": {},
   "outputs": [
    {
     "name": "stdout",
     "output_type": "stream",
     "text": [
      "[[ 0.  0.  0.]\n",
      " [10. 10. 10.]]\n"
     ]
    }
   ],
   "source": [
    "print(a2)"
   ]
  },
  {
   "cell_type": "code",
   "execution_count": 12,
   "id": "9fc0274e",
   "metadata": {},
   "outputs": [
    {
     "name": "stdout",
     "output_type": "stream",
     "text": [
      "\n",
      "\n"
     ]
    }
   ],
   "source": [
    "print('\\n')"
   ]
  },
  {
   "cell_type": "code",
   "execution_count": 13,
   "id": "296f6332",
   "metadata": {},
   "outputs": [
    {
     "name": "stdout",
     "output_type": "stream",
     "text": [
      "Second array\n"
     ]
    }
   ],
   "source": [
    "print('Second array')"
   ]
  },
  {
   "cell_type": "code",
   "execution_count": 18,
   "id": "aaf49bc3",
   "metadata": {},
   "outputs": [
    {
     "name": "stdout",
     "output_type": "stream",
     "text": [
      "[[1. 2. 3.]]\n"
     ]
    }
   ],
   "source": [
    "print(b2)"
   ]
  },
  {
   "cell_type": "code",
   "execution_count": 15,
   "id": "4a79d7db",
   "metadata": {},
   "outputs": [
    {
     "name": "stdout",
     "output_type": "stream",
     "text": [
      "\n",
      "\n"
     ]
    }
   ],
   "source": [
    "print(\"\\n\")"
   ]
  },
  {
   "cell_type": "code",
   "execution_count": 16,
   "id": "041db8e4",
   "metadata": {},
   "outputs": [
    {
     "name": "stdout",
     "output_type": "stream",
     "text": [
      "First array + Second array\n"
     ]
    }
   ],
   "source": [
    "print('First array + Second array')"
   ]
  },
  {
   "cell_type": "code",
   "execution_count": 17,
   "id": "e781d8d8",
   "metadata": {},
   "outputs": [
    {
     "name": "stdout",
     "output_type": "stream",
     "text": [
      "[[ 1.  2.  3.]\n",
      " [11. 12. 13.]]\n"
     ]
    }
   ],
   "source": [
    "print(a2 +b2)"
   ]
  },
  {
   "cell_type": "markdown",
   "id": "4bdd30e8",
   "metadata": {},
   "source": [
    "### Iterating over Array"
   ]
  },
  {
   "cell_type": "markdown",
   "id": "cc675791",
   "metadata": {},
   "source": [
    "##### There is iterator object in numpy numpy.nditer\n"
   ]
  },
  {
   "cell_type": "code",
   "execution_count": 21,
   "id": "cccaca71",
   "metadata": {},
   "outputs": [],
   "source": [
    "a3=np.arange(0,60,5)"
   ]
  },
  {
   "cell_type": "code",
   "execution_count": 40,
   "id": "82bea6aa",
   "metadata": {},
   "outputs": [
    {
     "name": "stdout",
     "output_type": "stream",
     "text": [
      "[[ 0  5 10 15]\n",
      " [20 25 30 35]\n",
      " [40 45 50 55]]\n"
     ]
    }
   ],
   "source": [
    "print(a3)"
   ]
  },
  {
   "cell_type": "code",
   "execution_count": 34,
   "id": "aa275486",
   "metadata": {},
   "outputs": [],
   "source": [
    "a3=a3.reshape(3,4)"
   ]
  },
  {
   "cell_type": "code",
   "execution_count": 35,
   "id": "9a52a3ef",
   "metadata": {},
   "outputs": [
    {
     "name": "stdout",
     "output_type": "stream",
     "text": [
      "Original array is:\n"
     ]
    }
   ],
   "source": [
    "print('Original array is:')"
   ]
  },
  {
   "cell_type": "code",
   "execution_count": 36,
   "id": "c28d7580",
   "metadata": {},
   "outputs": [
    {
     "name": "stdout",
     "output_type": "stream",
     "text": [
      "[[ 0  5 10 15]\n",
      " [20 25 30 35]\n",
      " [40 45 50 55]]\n"
     ]
    }
   ],
   "source": [
    "print(a3)"
   ]
  },
  {
   "cell_type": "code",
   "execution_count": 37,
   "id": "7b20a379",
   "metadata": {},
   "outputs": [
    {
     "name": "stdout",
     "output_type": "stream",
     "text": [
      "\n",
      "\n"
     ]
    }
   ],
   "source": [
    "print('\\n')"
   ]
  },
  {
   "cell_type": "code",
   "execution_count": 38,
   "id": "546a6f35",
   "metadata": {},
   "outputs": [
    {
     "name": "stdout",
     "output_type": "stream",
     "text": [
      "Modifed array is:\n"
     ]
    }
   ],
   "source": [
    "print('Modifed array is:')"
   ]
  },
  {
   "cell_type": "code",
   "execution_count": 39,
   "id": "9852b953",
   "metadata": {},
   "outputs": [
    {
     "name": "stdout",
     "output_type": "stream",
     "text": [
      "0\n",
      "5\n",
      "10\n",
      "15\n",
      "20\n",
      "25\n",
      "30\n",
      "35\n",
      "40\n",
      "45\n",
      "50\n",
      "55\n"
     ]
    }
   ],
   "source": [
    "for x in np.nditer(a3):\n",
    "    print(x)"
   ]
  },
  {
   "cell_type": "code",
   "execution_count": 41,
   "id": "57f18e8a",
   "metadata": {},
   "outputs": [
    {
     "name": "stdout",
     "output_type": "stream",
     "text": [
      "Transpoe of the original array is:\n"
     ]
    }
   ],
   "source": [
    "print('Transpoe of the original array is:')"
   ]
  },
  {
   "cell_type": "code",
   "execution_count": 45,
   "id": "06e18129",
   "metadata": {},
   "outputs": [
    {
     "name": "stdout",
     "output_type": "stream",
     "text": [
      "[[ 0  5 10 15]\n",
      " [20 25 30 35]\n",
      " [40 45 50 55]]\n"
     ]
    }
   ],
   "source": [
    "print(a3)"
   ]
  },
  {
   "cell_type": "code",
   "execution_count": 43,
   "id": "1b9660db",
   "metadata": {},
   "outputs": [],
   "source": [
    "b3=a3.T"
   ]
  },
  {
   "cell_type": "code",
   "execution_count": 44,
   "id": "983c723c",
   "metadata": {},
   "outputs": [
    {
     "name": "stdout",
     "output_type": "stream",
     "text": [
      "[[ 0 20 40]\n",
      " [ 5 25 45]\n",
      " [10 30 50]\n",
      " [15 35 55]]\n"
     ]
    }
   ],
   "source": [
    "print(b3)"
   ]
  },
  {
   "cell_type": "code",
   "execution_count": 46,
   "id": "44b01072",
   "metadata": {},
   "outputs": [
    {
     "name": "stdout",
     "output_type": "stream",
     "text": [
      "0\n",
      "5\n",
      "10\n",
      "15\n",
      "20\n",
      "25\n",
      "30\n",
      "35\n",
      "40\n",
      "45\n",
      "50\n",
      "55\n"
     ]
    }
   ],
   "source": [
    "for x in np.nditer(b3):\n",
    "    print(x)"
   ]
  },
  {
   "cell_type": "markdown",
   "id": "b5a5211b",
   "metadata": {},
   "source": [
    "### Iteration Order"
   ]
  },
  {
   "cell_type": "markdown",
   "id": "df2b4b37",
   "metadata": {},
   "source": [
    "##### If we use the F-style order then iterater use the most effective way to "
   ]
  },
  {
   "cell_type": "code",
   "execution_count": 47,
   "id": "51cbcb7a",
   "metadata": {},
   "outputs": [
    {
     "name": "stdout",
     "output_type": "stream",
     "text": [
      "Sorted in C-style order\n"
     ]
    }
   ],
   "source": [
    "print('Sorted in C-style order')"
   ]
  },
  {
   "cell_type": "code",
   "execution_count": 52,
   "id": "151ca8d3",
   "metadata": {},
   "outputs": [],
   "source": [
    "c3=b3.copy(order='c')"
   ]
  },
  {
   "cell_type": "code",
   "execution_count": 53,
   "id": "ebbf9c3a",
   "metadata": {},
   "outputs": [
    {
     "name": "stdout",
     "output_type": "stream",
     "text": [
      "[[ 0 20 40]\n",
      " [ 5 25 45]\n",
      " [10 30 50]\n",
      " [15 35 55]]\n"
     ]
    }
   ],
   "source": [
    "print(c3)"
   ]
  },
  {
   "cell_type": "code",
   "execution_count": 54,
   "id": "0c2d3486",
   "metadata": {},
   "outputs": [
    {
     "name": "stdout",
     "output_type": "stream",
     "text": [
      "Sorted F-style order\n"
     ]
    }
   ],
   "source": [
    "print('Sorted F-style order')"
   ]
  },
  {
   "cell_type": "code",
   "execution_count": 56,
   "id": "087751ac",
   "metadata": {},
   "outputs": [],
   "source": [
    "d3=b3.copy(order='F')"
   ]
  },
  {
   "cell_type": "code",
   "execution_count": 57,
   "id": "a9b06255",
   "metadata": {},
   "outputs": [
    {
     "name": "stdout",
     "output_type": "stream",
     "text": [
      "[[ 0 20 40]\n",
      " [ 5 25 45]\n",
      " [10 30 50]\n",
      " [15 35 55]]\n"
     ]
    }
   ],
   "source": [
    "print(d3)"
   ]
  },
  {
   "cell_type": "markdown",
   "id": "2aefcd53",
   "metadata": {},
   "source": [
    "#### To use the specific type order we can use nditer"
   ]
  },
  {
   "cell_type": "code",
   "execution_count": 58,
   "id": "7bd724c4",
   "metadata": {},
   "outputs": [
    {
     "name": "stdout",
     "output_type": "stream",
     "text": [
      "Sorted in C-style order:\n"
     ]
    }
   ],
   "source": [
    "print(\"Sorted in C-style order:\")"
   ]
  },
  {
   "cell_type": "code",
   "execution_count": 59,
   "id": "87cf53eb",
   "metadata": {},
   "outputs": [
    {
     "name": "stdout",
     "output_type": "stream",
     "text": [
      "1\n",
      "2\n",
      "3\n",
      "4\n"
     ]
    }
   ],
   "source": [
    "for x in np.nditer(a,order='C'):\n",
    "    print(x)"
   ]
  },
  {
   "cell_type": "code",
   "execution_count": 60,
   "id": "0a2aac84",
   "metadata": {},
   "outputs": [
    {
     "name": "stdout",
     "output_type": "stream",
     "text": [
      "\n",
      "\n"
     ]
    }
   ],
   "source": [
    "print('\\n')"
   ]
  },
  {
   "cell_type": "code",
   "execution_count": 61,
   "id": "cd26db26",
   "metadata": {},
   "outputs": [
    {
     "name": "stdout",
     "output_type": "stream",
     "text": [
      "Sorted in F-style order\n"
     ]
    }
   ],
   "source": [
    "print(\"Sorted in F-style order\")"
   ]
  },
  {
   "cell_type": "code",
   "execution_count": 63,
   "id": "634b41ab",
   "metadata": {},
   "outputs": [
    {
     "name": "stdout",
     "output_type": "stream",
     "text": [
      "1\n",
      "2\n",
      "3\n",
      "4\n"
     ]
    }
   ],
   "source": [
    "for x in np.nditer(a,order='F'):\n",
    "    print(x)"
   ]
  },
  {
   "cell_type": "markdown",
   "id": "1744b693",
   "metadata": {},
   "source": [
    " ### Modifying Array Values"
   ]
  },
  {
   "cell_type": "markdown",
   "id": "71298e8b",
   "metadata": {},
   "source": [
    "##### There is another optional prameter of nditer which is op_flags. It's by default value is read-only but we can set it to read -write or write-only.By using this method we can modify the array element."
   ]
  },
  {
   "cell_type": "code",
   "execution_count": 69,
   "id": "dbc40197",
   "metadata": {},
   "outputs": [],
   "source": [
    "a4=np.arange(0,60,5)"
   ]
  },
  {
   "cell_type": "code",
   "execution_count": 71,
   "id": "eb5df02c",
   "metadata": {},
   "outputs": [],
   "source": [
    "a4=a4.reshape(3,4)"
   ]
  },
  {
   "cell_type": "code",
   "execution_count": 64,
   "id": "3ea05fbf",
   "metadata": {},
   "outputs": [
    {
     "name": "stdout",
     "output_type": "stream",
     "text": [
      "Original array is \n"
     ]
    }
   ],
   "source": [
    "print(\"Original array is \")"
   ]
  },
  {
   "cell_type": "code",
   "execution_count": 72,
   "id": "873aa496",
   "metadata": {},
   "outputs": [
    {
     "name": "stdout",
     "output_type": "stream",
     "text": [
      "[[ 0  5 10 15]\n",
      " [20 25 30 35]\n",
      " [40 45 50 55]]\n"
     ]
    }
   ],
   "source": [
    "print(a4)"
   ]
  },
  {
   "cell_type": "code",
   "execution_count": 74,
   "id": "6ebdafe2",
   "metadata": {},
   "outputs": [],
   "source": [
    "# Modified array is \n",
    "for x in np.nditer(a4,op_flags=['readwrite']):\n",
    "    x[...]=2*x"
   ]
  },
  {
   "cell_type": "code",
   "execution_count": 75,
   "id": "ea199b72",
   "metadata": {},
   "outputs": [
    {
     "name": "stdout",
     "output_type": "stream",
     "text": [
      "Modified array is \n"
     ]
    }
   ],
   "source": [
    "print('Modified array is ')"
   ]
  },
  {
   "cell_type": "code",
   "execution_count": 76,
   "id": "7b8770d8",
   "metadata": {},
   "outputs": [
    {
     "name": "stdout",
     "output_type": "stream",
     "text": [
      "[[  0  10  20  30]\n",
      " [ 40  50  60  70]\n",
      " [ 80  90 100 110]]\n"
     ]
    }
   ],
   "source": [
    "print(a4)"
   ]
  },
  {
   "cell_type": "markdown",
   "id": "9c1a0018",
   "metadata": {},
   "source": [
    "#### External Loop"
   ]
  },
  {
   "cell_type": "markdown",
   "id": "7e92f700",
   "metadata": {},
   "source": [
    "#### nditer class constructor has flags prameter"
   ]
  },
  {
   "cell_type": "code",
   "execution_count": 78,
   "id": "fec7baaf",
   "metadata": {},
   "outputs": [
    {
     "name": "stdout",
     "output_type": "stream",
     "text": [
      "[ 0 40 80]\n",
      "[10 50 90]\n",
      "[ 20  60 100]\n",
      "[ 30  70 110]\n"
     ]
    }
   ],
   "source": [
    "for x in np.nditer(a4,flags=['external_loop'],order='F'):\n",
    "    print(x)"
   ]
  },
  {
   "cell_type": "markdown",
   "id": "334bfbc7",
   "metadata": {},
   "source": [
    "### Broadcasting Iteration"
   ]
  },
  {
   "cell_type": "code",
   "execution_count": 80,
   "id": "94a0a2aa",
   "metadata": {},
   "outputs": [],
   "source": [
    "a=np.arange(0,60,5)"
   ]
  },
  {
   "cell_type": "code",
   "execution_count": 81,
   "id": "20892b0d",
   "metadata": {},
   "outputs": [],
   "source": [
    "a=a.reshape(3,4)"
   ]
  },
  {
   "cell_type": "code",
   "execution_count": 82,
   "id": "c054b7e1",
   "metadata": {},
   "outputs": [
    {
     "name": "stdout",
     "output_type": "stream",
     "text": [
      "Frint array is:\n"
     ]
    }
   ],
   "source": [
    "print('Frint array is:')"
   ]
  },
  {
   "cell_type": "code",
   "execution_count": 83,
   "id": "56306c39",
   "metadata": {},
   "outputs": [
    {
     "name": "stdout",
     "output_type": "stream",
     "text": [
      "[[ 0  5 10 15]\n",
      " [20 25 30 35]\n",
      " [40 45 50 55]]\n"
     ]
    }
   ],
   "source": [
    "print(a)"
   ]
  },
  {
   "cell_type": "code",
   "execution_count": 84,
   "id": "e0525bdc",
   "metadata": {},
   "outputs": [
    {
     "name": "stdout",
     "output_type": "stream",
     "text": [
      "\n",
      "\n"
     ]
    }
   ],
   "source": [
    "print('\\n')"
   ]
  },
  {
   "cell_type": "code",
   "execution_count": 85,
   "id": "55de035e",
   "metadata": {},
   "outputs": [
    {
     "name": "stdout",
     "output_type": "stream",
     "text": [
      "Second array is:\n"
     ]
    }
   ],
   "source": [
    "print('Second array is:')"
   ]
  },
  {
   "cell_type": "code",
   "execution_count": 86,
   "id": "efd2bc01",
   "metadata": {},
   "outputs": [],
   "source": [
    "b=np.array([1,2,3,4],dtype=int)"
   ]
  },
  {
   "cell_type": "code",
   "execution_count": 87,
   "id": "0b46f2f1",
   "metadata": {},
   "outputs": [
    {
     "name": "stdout",
     "output_type": "stream",
     "text": [
      "[1 2 3 4]\n"
     ]
    }
   ],
   "source": [
    "print(b)"
   ]
  },
  {
   "cell_type": "code",
   "execution_count": 88,
   "id": "b757747b",
   "metadata": {},
   "outputs": [
    {
     "name": "stdout",
     "output_type": "stream",
     "text": [
      "\n",
      "\n"
     ]
    }
   ],
   "source": [
    "print('\\n')"
   ]
  },
  {
   "cell_type": "code",
   "execution_count": 89,
   "id": "8f12b3d0",
   "metadata": {},
   "outputs": [
    {
     "name": "stdout",
     "output_type": "stream",
     "text": [
      "Modified array is:\n"
     ]
    }
   ],
   "source": [
    "print('Modified array is:')"
   ]
  },
  {
   "cell_type": "code",
   "execution_count": 90,
   "id": "bdc5114a",
   "metadata": {},
   "outputs": [
    {
     "name": "stdout",
     "output_type": "stream",
     "text": [
      "0:1\n",
      "5:2\n",
      "10:3\n",
      "15:4\n",
      "20:1\n",
      "25:2\n",
      "30:3\n",
      "35:4\n",
      "40:1\n",
      "45:2\n",
      "50:3\n",
      "55:4\n"
     ]
    }
   ],
   "source": [
    "for x,y in np.nditer([a,b]):\n",
    "    print(\"%d:%d\"%(x,y))"
   ]
  },
  {
   "cell_type": "code",
   "execution_count": null,
   "id": "ae3c7d85",
   "metadata": {},
   "outputs": [],
   "source": []
  }
 ],
 "metadata": {
  "kernelspec": {
   "display_name": "Python 3 (ipykernel)",
   "language": "python",
   "name": "python3"
  },
  "language_info": {
   "codemirror_mode": {
    "name": "ipython",
    "version": 3
   },
   "file_extension": ".py",
   "mimetype": "text/x-python",
   "name": "python",
   "nbconvert_exporter": "python",
   "pygments_lexer": "ipython3",
   "version": "3.10.5"
  }
 },
 "nbformat": 4,
 "nbformat_minor": 5
}
